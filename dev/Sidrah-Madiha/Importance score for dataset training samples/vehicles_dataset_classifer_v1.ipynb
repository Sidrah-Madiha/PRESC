{
 "cells": [
  {
   "cell_type": "markdown",
   "metadata": {
    "colab_type": "text",
    "id": "93t7WeVGX7uc"
   },
   "source": [
    "## Importing Libraries\n",
    "\n"
   ]
  },
  {
   "cell_type": "code",
   "execution_count": 1,
   "metadata": {
    "colab": {},
    "colab_type": "code",
    "id": "p0TB7_oeYEYt"
   },
   "outputs": [],
   "source": [
    "# importing my custom module\n",
    "import allcustommodules as sidra\n",
    "from sklearn import metrics\n",
    "import pandas as pd\n",
    "from sklearn.model_selection import cross_val_score\n",
    "import helper_for_senstivity_calculation as sensitive\n",
    "from sklearn.ensemble import RandomForestClassifier"
   ]
  },
  {
   "cell_type": "markdown",
   "metadata": {
    "colab_type": "text",
    "id": "t2VV_guhXaCQ"
   },
   "source": [
    "## Loading Data"
   ]
  },
  {
   "cell_type": "code",
   "execution_count": 2,
   "metadata": {
    "colab": {
     "base_uri": "https://localhost:8080/",
     "height": 241
    },
    "colab_type": "code",
    "id": "stcLXa-YXj8F",
    "outputId": "4bd0de9c-5f82-47d3-be77-e0ee8528c0b2"
   },
   "outputs": [
    {
     "data": {
      "text/html": [
       "<div>\n",
       "<style scoped>\n",
       "    .dataframe tbody tr th:only-of-type {\n",
       "        vertical-align: middle;\n",
       "    }\n",
       "\n",
       "    .dataframe tbody tr th {\n",
       "        vertical-align: top;\n",
       "    }\n",
       "\n",
       "    .dataframe thead th {\n",
       "        text-align: right;\n",
       "    }\n",
       "</style>\n",
       "<table border=\"1\" class=\"dataframe\">\n",
       "  <thead>\n",
       "    <tr style=\"text-align: right;\">\n",
       "      <th></th>\n",
       "      <th>COMPACTNESS</th>\n",
       "      <th>CIRCULARITY</th>\n",
       "      <th>DISTANCE_CIRCULARITY</th>\n",
       "      <th>RADIUS_RATIO</th>\n",
       "      <th>PR.AXIS_ASPECT_RATIO</th>\n",
       "      <th>MAX.LENGTH_ASPECT_RATIO</th>\n",
       "      <th>SCATTER_RATIO</th>\n",
       "      <th>ELONGATEDNESS</th>\n",
       "      <th>PR.AXIS_RECTANGULARITY</th>\n",
       "      <th>MAX.LENGTH_RECTANGULARITY</th>\n",
       "      <th>SCALED_VARIANCE_MAJOR</th>\n",
       "      <th>SCALED_VARIANCE_MINOR</th>\n",
       "      <th>SCALED_RADIUS_OF_GYRATION</th>\n",
       "      <th>SKEWNESS_ABOUT_MAJOR</th>\n",
       "      <th>SKEWNESS_ABOUT_MINOR</th>\n",
       "      <th>KURTOSIS_ABOUT_MAJOR</th>\n",
       "      <th>KURTOSIS_ABOUT_MINOR</th>\n",
       "      <th>HOLLOWS_RATIO</th>\n",
       "      <th>Class</th>\n",
       "    </tr>\n",
       "  </thead>\n",
       "  <tbody>\n",
       "    <tr>\n",
       "      <th>0</th>\n",
       "      <td>95</td>\n",
       "      <td>48</td>\n",
       "      <td>83</td>\n",
       "      <td>178</td>\n",
       "      <td>72</td>\n",
       "      <td>10</td>\n",
       "      <td>162</td>\n",
       "      <td>42</td>\n",
       "      <td>20</td>\n",
       "      <td>159</td>\n",
       "      <td>176</td>\n",
       "      <td>379</td>\n",
       "      <td>184</td>\n",
       "      <td>70</td>\n",
       "      <td>6</td>\n",
       "      <td>16</td>\n",
       "      <td>187</td>\n",
       "      <td>197</td>\n",
       "      <td>van</td>\n",
       "    </tr>\n",
       "    <tr>\n",
       "      <th>1</th>\n",
       "      <td>91</td>\n",
       "      <td>41</td>\n",
       "      <td>84</td>\n",
       "      <td>141</td>\n",
       "      <td>57</td>\n",
       "      <td>9</td>\n",
       "      <td>149</td>\n",
       "      <td>45</td>\n",
       "      <td>19</td>\n",
       "      <td>143</td>\n",
       "      <td>170</td>\n",
       "      <td>330</td>\n",
       "      <td>158</td>\n",
       "      <td>72</td>\n",
       "      <td>9</td>\n",
       "      <td>14</td>\n",
       "      <td>189</td>\n",
       "      <td>199</td>\n",
       "      <td>van</td>\n",
       "    </tr>\n",
       "    <tr>\n",
       "      <th>2</th>\n",
       "      <td>104</td>\n",
       "      <td>50</td>\n",
       "      <td>106</td>\n",
       "      <td>209</td>\n",
       "      <td>66</td>\n",
       "      <td>10</td>\n",
       "      <td>207</td>\n",
       "      <td>32</td>\n",
       "      <td>23</td>\n",
       "      <td>158</td>\n",
       "      <td>223</td>\n",
       "      <td>635</td>\n",
       "      <td>220</td>\n",
       "      <td>73</td>\n",
       "      <td>14</td>\n",
       "      <td>9</td>\n",
       "      <td>188</td>\n",
       "      <td>196</td>\n",
       "      <td>saab</td>\n",
       "    </tr>\n",
       "    <tr>\n",
       "      <th>3</th>\n",
       "      <td>93</td>\n",
       "      <td>41</td>\n",
       "      <td>82</td>\n",
       "      <td>159</td>\n",
       "      <td>63</td>\n",
       "      <td>9</td>\n",
       "      <td>144</td>\n",
       "      <td>46</td>\n",
       "      <td>19</td>\n",
       "      <td>143</td>\n",
       "      <td>160</td>\n",
       "      <td>309</td>\n",
       "      <td>127</td>\n",
       "      <td>63</td>\n",
       "      <td>6</td>\n",
       "      <td>10</td>\n",
       "      <td>199</td>\n",
       "      <td>207</td>\n",
       "      <td>van</td>\n",
       "    </tr>\n",
       "    <tr>\n",
       "      <th>4</th>\n",
       "      <td>85</td>\n",
       "      <td>44</td>\n",
       "      <td>70</td>\n",
       "      <td>205</td>\n",
       "      <td>103</td>\n",
       "      <td>52</td>\n",
       "      <td>149</td>\n",
       "      <td>45</td>\n",
       "      <td>19</td>\n",
       "      <td>144</td>\n",
       "      <td>241</td>\n",
       "      <td>325</td>\n",
       "      <td>188</td>\n",
       "      <td>127</td>\n",
       "      <td>9</td>\n",
       "      <td>11</td>\n",
       "      <td>180</td>\n",
       "      <td>183</td>\n",
       "      <td>bus</td>\n",
       "    </tr>\n",
       "  </tbody>\n",
       "</table>\n",
       "</div>"
      ],
      "text/plain": [
       "   COMPACTNESS  CIRCULARITY  DISTANCE_CIRCULARITY  RADIUS_RATIO  \\\n",
       "0           95           48                    83           178   \n",
       "1           91           41                    84           141   \n",
       "2          104           50                   106           209   \n",
       "3           93           41                    82           159   \n",
       "4           85           44                    70           205   \n",
       "\n",
       "   PR.AXIS_ASPECT_RATIO  MAX.LENGTH_ASPECT_RATIO  SCATTER_RATIO  \\\n",
       "0                    72                       10            162   \n",
       "1                    57                        9            149   \n",
       "2                    66                       10            207   \n",
       "3                    63                        9            144   \n",
       "4                   103                       52            149   \n",
       "\n",
       "   ELONGATEDNESS  PR.AXIS_RECTANGULARITY  MAX.LENGTH_RECTANGULARITY  \\\n",
       "0             42                      20                        159   \n",
       "1             45                      19                        143   \n",
       "2             32                      23                        158   \n",
       "3             46                      19                        143   \n",
       "4             45                      19                        144   \n",
       "\n",
       "   SCALED_VARIANCE_MAJOR  SCALED_VARIANCE_MINOR  SCALED_RADIUS_OF_GYRATION  \\\n",
       "0                    176                    379                        184   \n",
       "1                    170                    330                        158   \n",
       "2                    223                    635                        220   \n",
       "3                    160                    309                        127   \n",
       "4                    241                    325                        188   \n",
       "\n",
       "   SKEWNESS_ABOUT_MAJOR  SKEWNESS_ABOUT_MINOR  KURTOSIS_ABOUT_MAJOR  \\\n",
       "0                    70                     6                    16   \n",
       "1                    72                     9                    14   \n",
       "2                    73                    14                     9   \n",
       "3                    63                     6                    10   \n",
       "4                   127                     9                    11   \n",
       "\n",
       "   KURTOSIS_ABOUT_MINOR  HOLLOWS_RATIO Class  \n",
       "0                   187            197   van  \n",
       "1                   189            199   van  \n",
       "2                   188            196  saab  \n",
       "3                   199            207   van  \n",
       "4                   180            183   bus  "
      ]
     },
     "execution_count": 2,
     "metadata": {},
     "output_type": "execute_result"
    }
   ],
   "source": [
    "filename = \"D:/PRESC/PRESC/datasets/vehicles.csv\"\n",
    "dataset = pd.read_csv(filename)\n",
    "dataset.head()"
   ]
  },
  {
   "cell_type": "markdown",
   "metadata": {},
   "source": [
    "### Exploring Dataset\n",
    "General shape of data set, attributes list and categories list"
   ]
  },
  {
   "cell_type": "code",
   "execution_count": 3,
   "metadata": {},
   "outputs": [
    {
     "name": "stdout",
     "output_type": "stream",
     "text": [
      "=========== SOME STATS of Dataset ===========\n",
      "Shape of the dataset: (846, 19)\n",
      "\n",
      "List of attribute columns ['COMPACTNESS', 'CIRCULARITY', 'DISTANCE_CIRCULARITY', 'RADIUS_RATIO', 'PR.AXIS_ASPECT_RATIO', 'MAX.LENGTH_ASPECT_RATIO', 'SCATTER_RATIO', 'ELONGATEDNESS', 'PR.AXIS_RECTANGULARITY', 'MAX.LENGTH_RECTANGULARITY', 'SCALED_VARIANCE_MAJOR', 'SCALED_VARIANCE_MINOR', 'SCALED_RADIUS_OF_GYRATION', 'SKEWNESS_ABOUT_MAJOR', 'SKEWNESS_ABOUT_MINOR', 'KURTOSIS_ABOUT_MAJOR', 'KURTOSIS_ABOUT_MINOR', 'HOLLOWS_RATIO', 'Class']\n",
      "\n",
      "\n",
      "List of Categories  ['van' 'saab' 'bus' 'opel'] \n",
      "\n"
     ]
    }
   ],
   "source": [
    "sidra.data_stats(dataset)"
   ]
  },
  {
   "cell_type": "markdown",
   "metadata": {
    "colab_type": "text",
    "id": "rD63QjxZKHlZ"
   },
   "source": [
    "#### Checking for anomalies and if upsampling of data is required \n",
    "Verifying that dataset is homogenous (that is there are almost equal number of datapoints belonging to each category)"
   ]
  },
  {
   "cell_type": "code",
   "execution_count": 4,
   "metadata": {},
   "outputs": [
    {
     "data": {
      "text/html": [
       "<div>\n",
       "<style scoped>\n",
       "    .dataframe tbody tr th:only-of-type {\n",
       "        vertical-align: middle;\n",
       "    }\n",
       "\n",
       "    .dataframe tbody tr th {\n",
       "        vertical-align: top;\n",
       "    }\n",
       "\n",
       "    .dataframe thead th {\n",
       "        text-align: right;\n",
       "    }\n",
       "</style>\n",
       "<table border=\"1\" class=\"dataframe\">\n",
       "  <thead>\n",
       "    <tr style=\"text-align: right;\">\n",
       "      <th></th>\n",
       "      <th>COMPACTNESS</th>\n",
       "      <th>CIRCULARITY</th>\n",
       "      <th>DISTANCE_CIRCULARITY</th>\n",
       "      <th>RADIUS_RATIO</th>\n",
       "      <th>PR.AXIS_ASPECT_RATIO</th>\n",
       "      <th>MAX.LENGTH_ASPECT_RATIO</th>\n",
       "      <th>SCATTER_RATIO</th>\n",
       "      <th>ELONGATEDNESS</th>\n",
       "      <th>PR.AXIS_RECTANGULARITY</th>\n",
       "      <th>MAX.LENGTH_RECTANGULARITY</th>\n",
       "      <th>SCALED_VARIANCE_MAJOR</th>\n",
       "      <th>SCALED_VARIANCE_MINOR</th>\n",
       "      <th>SCALED_RADIUS_OF_GYRATION</th>\n",
       "      <th>SKEWNESS_ABOUT_MAJOR</th>\n",
       "      <th>SKEWNESS_ABOUT_MINOR</th>\n",
       "      <th>KURTOSIS_ABOUT_MAJOR</th>\n",
       "      <th>KURTOSIS_ABOUT_MINOR</th>\n",
       "      <th>HOLLOWS_RATIO</th>\n",
       "    </tr>\n",
       "  </thead>\n",
       "  <tbody>\n",
       "    <tr>\n",
       "      <th>count</th>\n",
       "      <td>846.000000</td>\n",
       "      <td>846.000000</td>\n",
       "      <td>846.000000</td>\n",
       "      <td>846.000000</td>\n",
       "      <td>846.000000</td>\n",
       "      <td>846.000000</td>\n",
       "      <td>846.000000</td>\n",
       "      <td>846.000000</td>\n",
       "      <td>846.000000</td>\n",
       "      <td>846.000000</td>\n",
       "      <td>846.000000</td>\n",
       "      <td>846.000000</td>\n",
       "      <td>846.00000</td>\n",
       "      <td>846.000000</td>\n",
       "      <td>846.000000</td>\n",
       "      <td>846.000000</td>\n",
       "      <td>846.000000</td>\n",
       "      <td>846.000000</td>\n",
       "    </tr>\n",
       "    <tr>\n",
       "      <th>mean</th>\n",
       "      <td>93.678487</td>\n",
       "      <td>44.861702</td>\n",
       "      <td>82.088652</td>\n",
       "      <td>168.940898</td>\n",
       "      <td>61.693853</td>\n",
       "      <td>8.567376</td>\n",
       "      <td>168.839243</td>\n",
       "      <td>40.933806</td>\n",
       "      <td>20.582742</td>\n",
       "      <td>147.998818</td>\n",
       "      <td>188.625296</td>\n",
       "      <td>439.911348</td>\n",
       "      <td>174.70331</td>\n",
       "      <td>72.462175</td>\n",
       "      <td>6.377069</td>\n",
       "      <td>12.599291</td>\n",
       "      <td>188.932624</td>\n",
       "      <td>195.632388</td>\n",
       "    </tr>\n",
       "    <tr>\n",
       "      <th>std</th>\n",
       "      <td>8.234474</td>\n",
       "      <td>6.169866</td>\n",
       "      <td>15.771533</td>\n",
       "      <td>33.472183</td>\n",
       "      <td>7.888251</td>\n",
       "      <td>4.601217</td>\n",
       "      <td>33.244978</td>\n",
       "      <td>7.811560</td>\n",
       "      <td>2.592138</td>\n",
       "      <td>14.515652</td>\n",
       "      <td>31.394837</td>\n",
       "      <td>176.692614</td>\n",
       "      <td>32.54649</td>\n",
       "      <td>7.486974</td>\n",
       "      <td>4.918353</td>\n",
       "      <td>8.931240</td>\n",
       "      <td>6.163949</td>\n",
       "      <td>7.438797</td>\n",
       "    </tr>\n",
       "    <tr>\n",
       "      <th>min</th>\n",
       "      <td>73.000000</td>\n",
       "      <td>33.000000</td>\n",
       "      <td>40.000000</td>\n",
       "      <td>104.000000</td>\n",
       "      <td>47.000000</td>\n",
       "      <td>2.000000</td>\n",
       "      <td>112.000000</td>\n",
       "      <td>26.000000</td>\n",
       "      <td>17.000000</td>\n",
       "      <td>118.000000</td>\n",
       "      <td>130.000000</td>\n",
       "      <td>184.000000</td>\n",
       "      <td>109.00000</td>\n",
       "      <td>59.000000</td>\n",
       "      <td>0.000000</td>\n",
       "      <td>0.000000</td>\n",
       "      <td>176.000000</td>\n",
       "      <td>181.000000</td>\n",
       "    </tr>\n",
       "    <tr>\n",
       "      <th>25%</th>\n",
       "      <td>87.000000</td>\n",
       "      <td>40.000000</td>\n",
       "      <td>70.000000</td>\n",
       "      <td>141.000000</td>\n",
       "      <td>57.000000</td>\n",
       "      <td>7.000000</td>\n",
       "      <td>146.250000</td>\n",
       "      <td>33.000000</td>\n",
       "      <td>19.000000</td>\n",
       "      <td>137.000000</td>\n",
       "      <td>167.000000</td>\n",
       "      <td>318.250000</td>\n",
       "      <td>149.00000</td>\n",
       "      <td>67.000000</td>\n",
       "      <td>2.000000</td>\n",
       "      <td>5.000000</td>\n",
       "      <td>184.000000</td>\n",
       "      <td>190.250000</td>\n",
       "    </tr>\n",
       "    <tr>\n",
       "      <th>50%</th>\n",
       "      <td>93.000000</td>\n",
       "      <td>44.000000</td>\n",
       "      <td>80.000000</td>\n",
       "      <td>167.000000</td>\n",
       "      <td>61.000000</td>\n",
       "      <td>8.000000</td>\n",
       "      <td>157.000000</td>\n",
       "      <td>43.000000</td>\n",
       "      <td>20.000000</td>\n",
       "      <td>146.000000</td>\n",
       "      <td>178.500000</td>\n",
       "      <td>364.000000</td>\n",
       "      <td>173.00000</td>\n",
       "      <td>71.500000</td>\n",
       "      <td>6.000000</td>\n",
       "      <td>11.000000</td>\n",
       "      <td>188.000000</td>\n",
       "      <td>197.000000</td>\n",
       "    </tr>\n",
       "    <tr>\n",
       "      <th>75%</th>\n",
       "      <td>100.000000</td>\n",
       "      <td>49.000000</td>\n",
       "      <td>98.000000</td>\n",
       "      <td>195.000000</td>\n",
       "      <td>65.000000</td>\n",
       "      <td>10.000000</td>\n",
       "      <td>198.000000</td>\n",
       "      <td>46.000000</td>\n",
       "      <td>23.000000</td>\n",
       "      <td>159.000000</td>\n",
       "      <td>217.000000</td>\n",
       "      <td>587.000000</td>\n",
       "      <td>198.00000</td>\n",
       "      <td>75.000000</td>\n",
       "      <td>9.000000</td>\n",
       "      <td>19.000000</td>\n",
       "      <td>193.000000</td>\n",
       "      <td>201.000000</td>\n",
       "    </tr>\n",
       "    <tr>\n",
       "      <th>max</th>\n",
       "      <td>119.000000</td>\n",
       "      <td>59.000000</td>\n",
       "      <td>112.000000</td>\n",
       "      <td>333.000000</td>\n",
       "      <td>138.000000</td>\n",
       "      <td>55.000000</td>\n",
       "      <td>265.000000</td>\n",
       "      <td>61.000000</td>\n",
       "      <td>29.000000</td>\n",
       "      <td>188.000000</td>\n",
       "      <td>320.000000</td>\n",
       "      <td>1018.000000</td>\n",
       "      <td>268.00000</td>\n",
       "      <td>135.000000</td>\n",
       "      <td>22.000000</td>\n",
       "      <td>41.000000</td>\n",
       "      <td>206.000000</td>\n",
       "      <td>211.000000</td>\n",
       "    </tr>\n",
       "  </tbody>\n",
       "</table>\n",
       "</div>"
      ],
      "text/plain": [
       "       COMPACTNESS  CIRCULARITY  DISTANCE_CIRCULARITY  RADIUS_RATIO  \\\n",
       "count   846.000000   846.000000            846.000000    846.000000   \n",
       "mean     93.678487    44.861702             82.088652    168.940898   \n",
       "std       8.234474     6.169866             15.771533     33.472183   \n",
       "min      73.000000    33.000000             40.000000    104.000000   \n",
       "25%      87.000000    40.000000             70.000000    141.000000   \n",
       "50%      93.000000    44.000000             80.000000    167.000000   \n",
       "75%     100.000000    49.000000             98.000000    195.000000   \n",
       "max     119.000000    59.000000            112.000000    333.000000   \n",
       "\n",
       "       PR.AXIS_ASPECT_RATIO  MAX.LENGTH_ASPECT_RATIO  SCATTER_RATIO  \\\n",
       "count            846.000000               846.000000     846.000000   \n",
       "mean              61.693853                 8.567376     168.839243   \n",
       "std                7.888251                 4.601217      33.244978   \n",
       "min               47.000000                 2.000000     112.000000   \n",
       "25%               57.000000                 7.000000     146.250000   \n",
       "50%               61.000000                 8.000000     157.000000   \n",
       "75%               65.000000                10.000000     198.000000   \n",
       "max              138.000000                55.000000     265.000000   \n",
       "\n",
       "       ELONGATEDNESS  PR.AXIS_RECTANGULARITY  MAX.LENGTH_RECTANGULARITY  \\\n",
       "count     846.000000              846.000000                 846.000000   \n",
       "mean       40.933806               20.582742                 147.998818   \n",
       "std         7.811560                2.592138                  14.515652   \n",
       "min        26.000000               17.000000                 118.000000   \n",
       "25%        33.000000               19.000000                 137.000000   \n",
       "50%        43.000000               20.000000                 146.000000   \n",
       "75%        46.000000               23.000000                 159.000000   \n",
       "max        61.000000               29.000000                 188.000000   \n",
       "\n",
       "       SCALED_VARIANCE_MAJOR  SCALED_VARIANCE_MINOR  \\\n",
       "count             846.000000             846.000000   \n",
       "mean              188.625296             439.911348   \n",
       "std                31.394837             176.692614   \n",
       "min               130.000000             184.000000   \n",
       "25%               167.000000             318.250000   \n",
       "50%               178.500000             364.000000   \n",
       "75%               217.000000             587.000000   \n",
       "max               320.000000            1018.000000   \n",
       "\n",
       "       SCALED_RADIUS_OF_GYRATION  SKEWNESS_ABOUT_MAJOR  SKEWNESS_ABOUT_MINOR  \\\n",
       "count                  846.00000            846.000000            846.000000   \n",
       "mean                   174.70331             72.462175              6.377069   \n",
       "std                     32.54649              7.486974              4.918353   \n",
       "min                    109.00000             59.000000              0.000000   \n",
       "25%                    149.00000             67.000000              2.000000   \n",
       "50%                    173.00000             71.500000              6.000000   \n",
       "75%                    198.00000             75.000000              9.000000   \n",
       "max                    268.00000            135.000000             22.000000   \n",
       "\n",
       "       KURTOSIS_ABOUT_MAJOR  KURTOSIS_ABOUT_MINOR  HOLLOWS_RATIO  \n",
       "count            846.000000            846.000000     846.000000  \n",
       "mean              12.599291            188.932624     195.632388  \n",
       "std                8.931240              6.163949       7.438797  \n",
       "min                0.000000            176.000000     181.000000  \n",
       "25%                5.000000            184.000000     190.250000  \n",
       "50%               11.000000            188.000000     197.000000  \n",
       "75%               19.000000            193.000000     201.000000  \n",
       "max               41.000000            206.000000     211.000000  "
      ]
     },
     "execution_count": 4,
     "metadata": {},
     "output_type": "execute_result"
    }
   ],
   "source": [
    "dataset.describe()"
   ]
  },
  {
   "cell_type": "code",
   "execution_count": 5,
   "metadata": {
    "colab": {
     "base_uri": "https://localhost:8080/",
     "height": 282
    },
    "colab_type": "code",
    "id": "2SQPfugDJk72",
    "outputId": "b271ac50-1018-4a63-c8e5-96e8845a5f70"
   },
   "outputs": [
    {
     "data": {
      "text/plain": [
       "<matplotlib.axes._subplots.AxesSubplot at 0xb8ae208>"
      ]
     },
     "execution_count": 5,
     "metadata": {},
     "output_type": "execute_result"
    },
    {
     "data": {
      "image/png": "[encoded data removed]",
      "text/plain": [
       "<Figure size 432x288 with 1 Axes>"
      ]
     },
     "metadata": {
      "needs_background": "light"
     },
     "output_type": "display_data"
    }
   ],
   "source": [
    "dataset['Class'].value_counts().plot(kind='barh')"
   ]
  },
  {
   "cell_type": "markdown",
   "metadata": {
    "colab_type": "text",
    "id": "4zLu3o4pdy1J"
   },
   "source": [
    "## Tokenizing Target Column\n",
    "Since random forest algo can only predict numbers we are tokenizing Class column/ Target values to numbers."
   ]
  },
  {
   "cell_type": "code",
   "execution_count": 6,
   "metadata": {
    "colab": {
     "base_uri": "https://localhost:8080/",
     "height": 136
    },
    "colab_type": "code",
    "id": "N6whtHcXgc6e",
    "outputId": "62fae800-9875-4441-c469-e0c20eb6dad9"
   },
   "outputs": [
    {
     "name": "stdout",
     "output_type": "stream",
     "text": [
      "Updated tokenize 'Class' column - first 5 values\n",
      "0    0\n",
      "1    0\n",
      "2    1\n",
      "3    0\n",
      "4    2\n",
      "Name: Class, dtype: int64\n",
      "Distinct Tokens used for converting Class column to integers\n",
      "Index(['van', 'saab', 'bus', 'opel'], dtype='object')\n"
     ]
    }
   ],
   "source": [
    "definitions = sidra.tokenize_target_column(dataset)"
   ]
  },
  {
   "cell_type": "markdown",
   "metadata": {
    "colab_type": "text",
    "id": "vpOLp4I0m0fN"
   },
   "source": [
    "## Train and Test data split\n",
    "Now splitting data with 70 percent for training and 30 percent for testing"
   ]
  },
  {
   "cell_type": "code",
   "execution_count": 7,
   "metadata": {
    "colab": {
     "base_uri": "https://localhost:8080/",
     "height": 221
    },
    "colab_type": "code",
    "id": "4dxGc3Zemypi",
    "outputId": "56e4bd60-9637-4d3b-90a7-96afcdb54226"
   },
   "outputs": [],
   "source": [
    "X_train, X_test, y_train, y_test = sidra.train_data_test_data_split(dataset)"
   ]
  },
  {
   "cell_type": "markdown",
   "metadata": {},
   "source": [
    "## Calculating senstivity of dataset"
   ]
  },
  {
   "cell_type": "code",
   "execution_count": 8,
   "metadata": {},
   "outputs": [],
   "source": [
    "model_func = RandomForestClassifier(n_estimators = 10, criterion = 'entropy', random_state = 42)\n",
    "my_data_senstivity, list_scores = sensitive.calculate_senstivity(model_func, X_train, y_train, X_test, y_test)"
   ]
  },
  {
   "cell_type": "code",
   "execution_count": 9,
   "metadata": {},
   "outputs": [
    {
     "name": "stdout",
     "output_type": "stream",
     "text": [
      "the maximun L1 senstivity of my dataset is found to be 0.11176470588235288\n"
     ]
    }
   ],
   "source": [
    "print(\"the maximun L1 senstivity of my dataset is found to be\", my_data_senstivity )"
   ]
  },
  {
   "cell_type": "code",
   "execution_count": 11,
   "metadata": {},
   "outputs": [
    {
     "name": "stdout",
     "output_type": "stream",
     "text": [
      "priniting model performance score for all parallel datasets [0.03529411764705881, 0.03529411764705881, 0.05294117647058816, 0.04705882352941171, 0.03529411764705881, 0.04117647058823526, 0.05882352941176472, 0.07058823529411762, 0.06470588235294117, 0.11176470588235288, 0.08823529411764708, 0.07647058823529407, 0.08823529411764708, 0.07647058823529407, 0.07647058823529407, 0.05294117647058816, 0.05294117647058816, 0.07058823529411762, 0.05882352941176472, 0.05882352941176472, 0.04705882352941171, 0.05882352941176472, 0.07058823529411762, 0.07647058823529407, 0.08823529411764708, 0.09411764705882353, 0.07058823529411762, 0.07058823529411762, 0.05294117647058816, 0.04705882352941171, 0.05294117647058816, 0.06470588235294117, 0.06470588235294117, 0.06470588235294117, 0.07058823529411762, 0.07058823529411762, 0.07058823529411762, 0.07058823529411762, 0.05882352941176472, 0.06470588235294117, 0.05294117647058816, 0.05882352941176472, 0.04117647058823526, 0.02941176470588236, 0.01764705882352935, 0.03529411764705881, 0.07058823529411762, 0.06470588235294117, 0.06470588235294117, 0.04705882352941171, 0.04705882352941171, 0.05294117647058816, 0.05294117647058816, 0.02941176470588236, 0.04705882352941171, 0.04117647058823526, 0.04117647058823526, 0.05882352941176472, 0.04705882352941171, 0.02941176470588236, 0.02352941176470591, 0.02941176470588236, 0.02941176470588236, 0.03529411764705881, 0.04117647058823526, 0.03529411764705881, 0.06470588235294117, 0.02352941176470591, 0.04117647058823526, 0.02352941176470591, 0.0117647058823529, 0.05294117647058816, 0.05882352941176472, 0.06470588235294117, 0.06470588235294117, 0.02941176470588236, 0.04117647058823526, 0.06470588235294117, 0.01764705882352935, 0.03529411764705881, 0.05882352941176472, 0.06470588235294117, 0.06470588235294117, 0.05882352941176472, 0.02941176470588236, 0.07058823529411762, 0.07058823529411762, 0.04705882352941171, 0.0117647058823529, 0.02352941176470591, 0.04117647058823526, 0.02941176470588236, 0.01764705882352935, 0.01764705882352935, 0.0117647058823529, 0.06470588235294117, 0.00588235294117645, 0.05882352941176472, 0.05882352941176472, 0.02352941176470591, 0.03529411764705881, 0.05294117647058816, 0.05294117647058816, 0.04117647058823526, 0.05294117647058816, 0.06470588235294117, 0.07647058823529407, 0.07647058823529407, 0.07647058823529407, 0.05294117647058816, 0.09411764705882353, 0.02941176470588236, 0.01764705882352935, 0.03529411764705881, 0.07647058823529407, 0.05294117647058816, 0.05294117647058816, 0.04117647058823526, 0.03529411764705881, 0.03529411764705881, 0.02352941176470591, 0.02941176470588236, 0.0117647058823529, 0.00588235294117645, 0.04117647058823526, 0.04117647058823526, 0.04705882352941171, 0.05294117647058816, 0.02941176470588236, 0.08823529411764708, 0.09999999999999998, 0.05882352941176472, 0.07647058823529407, 0.05294117647058816, 0.04705882352941171, 0.02941176470588236, 0.05294117647058816, 0.05294117647058816, 0.05882352941176472, 0.04705882352941171, 0.06470588235294117, 0.04117647058823526, 0.02941176470588236, 0.02941176470588236, 0.05294117647058816, 0.07058823529411762, 0.05882352941176472, 0.05294117647058816, 0.05882352941176472, 0.07058823529411762, 0.07647058823529407, 0.07647058823529407, 0.07647058823529407, 0.07058823529411762, 0.04705882352941171, 0.05882352941176472, 0.06470588235294117, 0.06470588235294117, 0.03529411764705881, 0.04117647058823526, 0.04117647058823526, 0.02941176470588236, 0.04705882352941171, 0.00588235294117645, 0.0, 0.0117647058823529, 0.0, 0.01764705882352935, 0.02352941176470591, 0.01764705882352935, 0.02352941176470591, 0.02352941176470591, 0.0117647058823529, 0.01764705882352935, 0.04117647058823526, 0.02941176470588236, 0.03529411764705881, 0.03529411764705881, 0.02941176470588236, 0.03529411764705881, 0.04117647058823526, 0.02941176470588236, 0.04117647058823526, 0.04117647058823526, 0.05882352941176472, 0.06470588235294117, 0.04117647058823526, 0.03529411764705881, 0.04117647058823526, 0.05882352941176472, 0.03529411764705881, 0.02941176470588236, 0.0117647058823529, 0.0117647058823529, 0.03529411764705881, 0.04705882352941171, 0.03529411764705881, 0.04705882352941171, 0.02941176470588236, 0.01764705882352935, 0.00588235294117645, 0.00588235294117645, 0.00588235294117645, 0.01764705882352935, 0.01764705882352935, 0.02352941176470591, 0.06470588235294117, 0.02352941176470591, 0.05882352941176472, 0.00588235294117645, 0.01764705882352935, 0.01764705882352935, 0.00588235294117645, 0.02941176470588236, 0.01764705882352935, 0.02941176470588236, 0.00588235294117645, 0.00588235294117645, 0.04705882352941171, 0.05294117647058816, 0.04705882352941171, 0.03529411764705881, 0.06470588235294117, 0.05294117647058816, 0.03529411764705881, 0.04117647058823526, 0.04117647058823526, 0.02352941176470591, 0.05882352941176472, 0.05294117647058816, 0.02941176470588236, 0.04117647058823526, 0.04705882352941171, 0.02352941176470591, 0.04705882352941171, 0.04117647058823526, 0.04705882352941171, 0.05882352941176472, 0.03529411764705881, 0.02941176470588236, 0.04705882352941171, 0.04117647058823526, 0.04117647058823526, 0.05882352941176472, 0.05294117647058816, 0.05294117647058816, 0.02352941176470591, 0.03529411764705881, 0.04117647058823526, 0.03529411764705881, 0.06470588235294117, 0.05294117647058816, 0.01764705882352935, 0.01764705882352935, 0.00588235294117645, 0.02352941176470591, 0.02352941176470591, 0.05882352941176472, 0.05294117647058816, 0.01764705882352935, 0.02941176470588236, 0.04117647058823526, 0.01764705882352935, 0.00588235294117645, 0.05882352941176472, 0.03529411764705881, 0.04117647058823526, 0.03529411764705881, 0.03529411764705881, 0.05294117647058816, 0.05882352941176472, 0.05294117647058816, 0.03529411764705881, 0.04117647058823526, 0.04705882352941171, 0.04705882352941171, 0.05294117647058816, 0.05294117647058816, 0.03529411764705881, 0.07058823529411762, 0.05882352941176472, 0.03529411764705881, 0.06470588235294117, 0.06470588235294117, 0.05882352941176472, 0.04117647058823526, 0.05882352941176472, 0.07058823529411762, 0.03529411764705881, 0.04705882352941171, 0.01764705882352935, 0.04705882352941171, 0.03529411764705881, 0.05294117647058816, 0.04705882352941171, 0.03529411764705881, 0.0117647058823529, 0.05882352941176472, 0.04117647058823526, 0.02941176470588236, 0.04705882352941171, 0.04705882352941171, 0.02352941176470591, 0.03529411764705881, 0.03529411764705881, 0.07647058823529407, 0.06470588235294117, 0.05882352941176472, 0.04117647058823526, 0.03529411764705881, 0.04705882352941171, 0.04117647058823526, 0.09999999999999998, 0.09999999999999998, 0.09999999999999998, 0.10588235294117643, 0.08235294117647052, 0.06470588235294117, 0.06470588235294117, 0.06470588235294117, 0.03529411764705881, 0.01764705882352935, 0.04705882352941171, 0.03529411764705881, 0.02941176470588236, 0.04705882352941171, 0.03529411764705881, 0.04117647058823526, 0.04705882352941171, 0.01764705882352935, 0.0117647058823529, 0.02941176470588236, 0.02941176470588236, 0.01176470588235301, 0.01764705882352935, 0.0117647058823529, 0.0117647058823529, 0.00588235294117645, 0.0117647058823529, 0.03529411764705881, 0.01764705882352935, 0.0117647058823529, 0.03529411764705881, 0.03529411764705881, 0.02941176470588236, 0.01764705882352935, 0.0117647058823529, 0.05882352941176472, 0.02941176470588236, 0.00588235294117645, 0.07058823529411762, 0.07647058823529407, 0.04705882352941171, 0.08235294117647052, 0.07647058823529407, 0.03529411764705881, 0.04117647058823526, 0.04705882352941171, 0.02941176470588236, 0.05294117647058816, 0.05882352941176472, 0.04117647058823526, 0.06470588235294117, 0.07058823529411762, 0.06470588235294117, 0.06470588235294117, 0.03529411764705881, 0.02352941176470591, 0.03529411764705881, 0.02352941176470591, 0.03529411764705881, 0.0117647058823529, 0.00588235294117645, 0.01176470588235301, 0.01176470588235301, 0.0, 0.02941176470588236, 0.01176470588235301, 0.0, 0.01764705882352935, 0.02941176470588236, 0.03529411764705881, 0.0117647058823529, 0.05294117647058816, 0.02352941176470591, 0.0117647058823529, 0.00588235294117645, 0.0117647058823529, 0.0117647058823529, 0.01764705882352935, 0.03529411764705881, 0.00588235294117645, 0.01764705882352935, 0.0117647058823529, 0.00588235294117645, 0.02941176470588236, 0.04117647058823526, 0.01764705882352935, 0.02352941176470591, 0.01764705882352935, 0.00588235294117645, 0.01764705882352946, 0.01764705882352946, 0.02352941176470591, 0.00588235294117645, 0.00588235294117645, 0.00588235294117645, 0.00588235294117645, 0.02941176470588236, 0.03529411764705881, 0.01764705882352935, 0.01764705882352935, 0.01764705882352935, 0.02352941176470591, 0.0, 0.00588235294117645, 0.0, 0.00588235294117645, 0.0, 0.0117647058823529, 0.0, 0.00588235294117645, 0.00588235294117645, 0.00588235294117645, 0.0117647058823529, 0.03529411764705881, 0.02941176470588236, 0.02941176470588236, 0.0117647058823529, 0.00588235294117645, 0.00588235294117645, 0.00588235294117645, 0.01176470588235301, 0.00588235294117645, 0.0, 0.0117647058823529, 0.01764705882352935, 0.03529411764705881, 0.06470588235294117, 0.07647058823529407, 0.06470588235294117, 0.02941176470588236, 0.04705882352941171, 0.03529411764705881, 0.06470588235294117, 0.02941176470588236, 0.03529411764705881, 0.04117647058823526, 0.01764705882352935, 0.02941176470588236, 0.02941176470588236, 0.06470588235294117, 0.00588235294117645, 0.0117647058823529, 0.04117647058823526, 0.02352941176470591, 0.04705882352941171, 0.03529411764705881, 0.03529411764705881, 0.04117647058823526, 0.02941176470588236, 0.03529411764705881, 0.04117647058823526, 0.03529411764705881, 0.05294117647058816, 0.01764705882352935, 0.02352941176470591, 0.04117647058823526, 0.01764705882352935, 0.03529411764705881, 0.00588235294117645, 0.06470588235294117, 0.06470588235294117, 0.05882352941176472, 0.05882352941176472, 0.04705882352941171, 0.02941176470588236, 0.02941176470588236, 0.02352941176470591, 0.03529411764705881, 0.02941176470588236, 0.03529411764705881, 0.05882352941176472, 0.04117647058823526, 0.0117647058823529, 0.01764705882352935, 0.0117647058823529, 0.07058823529411762, 0.04705882352941171, 0.04117647058823526, 0.04117647058823526, 0.0117647058823529, 0.02941176470588236, 0.04117647058823526, 0.02941176470588236, 0.05882352941176472, 0.02941176470588236, 0.04117647058823526, 0.03529411764705881, 0.03529411764705881, 0.0117647058823529, 0.03529411764705881, 0.04117647058823526, 0.02352941176470591, 0.03529411764705881, 0.03529411764705881, 0.02941176470588236, 0.01764705882352935, 0.01764705882352935, 0.01764705882352935, 0.01764705882352935, 0.04705882352941171, 0.02941176470588236, 0.03529411764705881, 0.00588235294117645, 0.01764705882352935, 0.0117647058823529, 0.03529411764705881, 0.03529411764705881, 0.02941176470588236, 0.02941176470588236, 0.0, 0.02941176470588236, 0.0, 0.0, 0.01764705882352935, 0.04705882352941171, 0.03529411764705881, 0.01764705882352935, 0.01764705882352935, 0.02352941176470591, 0.02352941176470591, 0.0117647058823529, 0.02352941176470591, 0.05294117647058816, 0.03529411764705881, 0.06470588235294117, 0.02941176470588236, 0.03529411764705881, 0.02941176470588236, 0.02941176470588236, 0.01764705882352935, 0.0117647058823529, 0.02352941176470591, 0.02941176470588236, 0.05294117647058816, 0.05882352941176472, 0.01764705882352935, 0.02941176470588236, 0.06470588235294117, 0.07647058823529407, 0.07647058823529407, 0.04117647058823526, 0.04117647058823526, 0.04117647058823526, 0.04117647058823526, 0.03529411764705881, 0.04117647058823526, 0.05882352941176472, 0.05882352941176472, 0.07058823529411762, 0.06470588235294117, 0.07058823529411762, 0.06470588235294117, 0.07058823529411762, 0.05882352941176472, 0.04117647058823526, 0.04117647058823526, 0.09411764705882353, 0.06470588235294117, 0.07058823529411762, 0.05294117647058816, 0.08235294117647052, 0.05882352941176472, 0.06470588235294117, 0.06470588235294117, 0.07647058823529407, 0.10588235294117643, 0.08235294117647052, 0.05882352941176472, 0.04705882352941171, 0.03529411764705881, 0.01764705882352935, 0.02941176470588236, 0.04705882352941171, 0.02941176470588236, 0.02352941176470591, 0.02352941176470591, 0.04705882352941171, 0.03529411764705881, 0.05882352941176472, 0.04117647058823526, 0.04705882352941171, 0.05294117647058816, 0.07058823529411762, 0.05294117647058816, 0.05882352941176472, 0.03529411764705881, 0.01764705882352935, 0.04117647058823526, 0.03529411764705881, 0.04705882352941171, 0.04705882352941171, 0.02941176470588236, 0.02941176470588236, 0.00588235294117645, 0.0117647058823529, 0.0117647058823529, 0.01764705882352935, 0.04705882352941171, 0.05882352941176472, 0.07058823529411762, 0.03529411764705881, 0.07058823529411762, 0.11176470588235288, 0.07647058823529407, 0.04705882352941171, 0.08235294117647052, 0.07647058823529407, 0.06470588235294117, 0.05882352941176472, 0.05882352941176472, 0.05882352941176472, 0.04117647058823526, 0.04117647058823526, 0.09999999999999998, 0.03529411764705881, 0.02941176470588236, 0.04117647058823526, 0.04117647058823526, 0.05294117647058816, 0.07058823529411762, 0.04117647058823526, 0.04705882352941171, 0.04705882352941171, 0.07647058823529407, 0.05294117647058816, 0.07058823529411762, 0.05294117647058816, 0.03529411764705881, 0.03529411764705881, 0.0117647058823529, 0.00588235294117645, 0.00588235294117645, 0.00588235294117645, 0.02352941176470591, 0.00588235294117645, 0.0, 0.01764705882352935, 0.00588235294117645, 0.0117647058823529, 0.03529411764705881, 0.03529411764705881, 0.0117647058823529, 0.02941176470588236, 0.02941176470588236, 0.03529411764705881, 0.03529411764705881, 0.03529411764705881, 0.0117647058823529, 0.0117647058823529, 0.02941176470588236, 0.01764705882352935, 0.0117647058823529, 0.03529411764705881, 0.02352941176470591, 0.02941176470588236, 0.01764705882352935, 0.00588235294117645, 0.02941176470588236, 0.02352941176470591, 0.01764705882352935, 0.01764705882352935, 0.0117647058823529, 0.02941176470588236, 0.03529411764705881]\n",
      "0.11176470588235288\n"
     ]
    }
   ],
   "source": [
    "print(\"priniting model performance score for all parallel datasets\", list_scores)\n",
    "# print(max(list_scores))"
   ]
  },
  {
   "cell_type": "markdown",
   "metadata": {},
   "source": [
    "## Printing index and whole datapoint which has the maximum sensitivity"
   ]
  },
  {
   "cell_type": "code",
   "execution_count": 13,
   "metadata": {},
   "outputs": [
    {
     "name": "stdout",
     "output_type": "stream",
     "text": [
      "index of most senstive data point in training data 9\n",
      "Most senstive data point [ 86  37  77 144  54   7 154  43  19 127 179 352 145  71  14  13 186 191]\n"
     ]
    }
   ],
   "source": [
    "sensitive.max_senstivity_leakage_datapoint(model_func, X_train, y_train, X_test, y_test)"
   ]
  },
  {
   "cell_type": "code",
   "execution_count": null,
   "metadata": {},
   "outputs": [],
   "source": []
  }
 ],
 "metadata": {
  "colab": {
   "collapsed_sections": [],
   "name": "vehicles_dataset_classifer_v1.ipynb",
   "provenance": [],
   "toc_visible": true
  },
  "kernelspec": {
   "display_name": "Python 3",
   "language": "python",
   "name": "python3"
  },
  "language_info": {
   "codemirror_mode": {
    "name": "ipython",
    "version": 3
   },
   "file_extension": ".py",
   "mimetype": "text/x-python",
   "name": "python",
   "nbconvert_exporter": "python",
   "pygments_lexer": "ipython3",
   "version": "3.7.3"
  }
 },
 "nbformat": 4,
 "nbformat_minor": 1
}
